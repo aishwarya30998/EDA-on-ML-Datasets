{
 "cells": [
  {
   "cell_type": "code",
   "execution_count": 1,
   "metadata": {},
   "outputs": [
    {
     "name": "stdout",
     "output_type": "stream",
     "text": [
      "fibbanoci sequence:\n",
      "0\n",
      "1\n",
      "1\n",
      "2\n",
      "3\n"
     ]
    }
   ],
   "source": [
    "def fibbanoci(n):\n",
    "    if n<=1:\n",
    "        return n\n",
    "    else:\n",
    "        return fibbanoci(n-1)+fibbanoci(n-2)\n",
    "    \n",
    "\n",
    "terms = int(input(\"enter the numbers\"))\n",
    "print(\"fibbanoci sequence:\")\n",
    "for i in range(terms):\n",
    "    print(fibbanoci(i))\n",
    "    "
   ]
  },
  {
   "cell_type": "code",
   "execution_count": 6,
   "metadata": {},
   "outputs": [
    {
     "name": "stdout",
     "output_type": "stream",
     "text": [
      "prime or not:\n",
      "False\n"
     ]
    }
   ],
   "source": [
    "def prime(n):\n",
    "    if n<=1:\n",
    "        return False\n",
    "    for i in range(2, int(n * 0.5)+1):\n",
    "        if(n%i == 0):\n",
    "            return False\n",
    "    return True\n",
    "terms = int(input(\"enter the number\"))\n",
    "print(\"prime or not:\")\n",
    "print(prime(i))\n",
    "    "
   ]
  },
  {
   "cell_type": "code",
   "execution_count": 7,
   "metadata": {},
   "outputs": [
    {
     "name": "stdout",
     "output_type": "stream",
     "text": [
      "sorted arr: [10, 13, 20, 34, 40, 56]\n"
     ]
    }
   ],
   "source": [
    "def bubble_arr(arr):\n",
    "    n = len(arr)\n",
    "    for i in range (n-1):\n",
    "        for j in range(0, n-i-1):\n",
    "            if arr[j] > arr[j+1]:\n",
    "                arr[j], arr[j+1] = arr[j+1], arr[j]\n",
    "arr = [20, 34, 56, 10, 13, 40]\n",
    "bubble_arr(arr)\n",
    "print(\"sorted arr:\", arr)"
   ]
  },
  {
   "cell_type": "code",
   "execution_count": 2,
   "metadata": {},
   "outputs": [
    {
     "name": "stdout",
     "output_type": "stream",
     "text": [
      "element found at index 3\n"
     ]
    }
   ],
   "source": [
    "def binary_search(arr,x):\n",
    "    low=0\n",
    "    high = len(arr)-1\n",
    "    while low <= high:\n",
    "        mid = (low+high)//2\n",
    "        if arr[mid]<x:\n",
    "            low = mid+1\n",
    "        elif arr[mid]>x:\n",
    "            high = mid-1\n",
    "        else:\n",
    "            return mid\n",
    "    return -1\n",
    "arr = [2,4,5,8,10]\n",
    "x = 8\n",
    "\n",
    "result = binary_search(arr,x)\n",
    "if(result !=-1):\n",
    "    print(f\"element found at index {result}\")\n",
    "else:\n",
    "    print(\"ELement not found\")\n"
   ]
  },
  {
   "cell_type": "code",
   "execution_count": 4,
   "metadata": {},
   "outputs": [
    {
     "name": "stdout",
     "output_type": "stream",
     "text": [
      "Not an Aarmstrong Number\n"
     ]
    }
   ],
   "source": [
    "#check for Armstrong number\n",
    "def is_armstrong(n):\n",
    "    order = len(str(n))\n",
    "    temp = n\n",
    "    sum = 0\n",
    "    while temp > 0:\n",
    "        digit = temp%10\n",
    "        sum += digit ** order\n",
    "        temp //= 10\n",
    "    return n==sum\n",
    "\n",
    "number = int(input(\"Enter a number:\"))\n",
    "if is_armstrong(number):\n",
    "    print(\"Armstrong Number\")\n",
    "else:\n",
    "    print(\"Not an Aarmstrong Number\")\n"
   ]
  },
  {
   "cell_type": "code",
   "execution_count": 5,
   "metadata": {},
   "outputs": [
    {
     "name": "stdout",
     "output_type": "stream",
     "text": [
      "* \n",
      "* * \n",
      "* * * \n",
      "* * * * \n",
      "* * * * * \n"
     ]
    }
   ],
   "source": [
    "#generate a simple pattern\n",
    "n = 5\n",
    "for i in range(n):\n",
    "    print('* ' * (i + 1))"
   ]
  },
  {
   "cell_type": "code",
   "execution_count": 6,
   "metadata": {},
   "outputs": [
    {
     "name": "stdout",
     "output_type": "stream",
     "text": [
      "Element found at index 3\n"
     ]
    }
   ],
   "source": [
    "#Linear Search\n",
    "def linear_search(arr, x):\n",
    "    for i in range(len(arr)):\n",
    "        if arr[i] == x:\n",
    "            return i\n",
    "    return -1\n",
    "arr = [4, 2, 1, 7, 5]\n",
    "x = 7\n",
    "result = linear_search(arr, x)\n",
    "if result != -1:\n",
    "    print(f\"Element found at index {result}\")\n",
    "else:\n",
    "    print(\"Element not found\")\n"
   ]
  },
  {
   "cell_type": "code",
   "execution_count": 7,
   "metadata": {},
   "outputs": [
    {
     "name": "stdout",
     "output_type": "stream",
     "text": [
      "Result: 16\n"
     ]
    }
   ],
   "source": [
    " #Calculate the Power of a Number:\n",
    "base = int(input(\"Enter the base: \"))\n",
    "exponent = int(input(\"Enter the exponent: \"))\n",
    "result = base ** exponent\n",
    "print(\"Result:\", result)\n"
   ]
  },
  {
   "cell_type": "code",
   "execution_count": 8,
   "metadata": {},
   "outputs": [
    {
     "name": "stdout",
     "output_type": "stream",
     "text": [
      "Fibonacci series:\n",
      "0 1 1 2 3 5 "
     ]
    }
   ],
   "source": [
    "#Print the Fibonacci Series:\n",
    "def fibonacci_series(n):\n",
    "    a, b = 0, 1\n",
    "    for _ in range(n):\n",
    "        print(a, end=\" \")\n",
    "        a, b = b, a + b\n",
    "\n",
    "terms = int(input(\"Enter the number of terms: \"))\n",
    "print(\"Fibonacci series:\")\n",
    "fibonacci_series(terms)\n"
   ]
  },
  {
   "cell_type": "code",
   "execution_count": 9,
   "metadata": {},
   "outputs": [
    {
     "name": "stdout",
     "output_type": "stream",
     "text": [
      "    *\n",
      "   ***\n",
      "  *****\n",
      " *******\n",
      "*********\n"
     ]
    }
   ],
   "source": [
    "#Generate a Simple Pyramid Pattern:\n",
    "n = 5\n",
    "for i in range(n):\n",
    "    print(\" \" * (n - i - 1) + \"*\" * (2 * i + 1))"
   ]
  },
  {
   "cell_type": "code",
   "execution_count": 13,
   "metadata": {},
   "outputs": [
    {
     "name": "stdout",
     "output_type": "stream",
     "text": [
      "the sorted array is: [2, 6, 7, 21, 33]\n"
     ]
    }
   ],
   "source": [
    "#Sorting\n",
    "# Selection Sort-- O(n**2)\n",
    "def selection_sort(array):\n",
    "    length = len(array)\n",
    "\n",
    "    for i in range(length-1):\n",
    "        minindex = i\n",
    "\n",
    "        for j in range(i+1, length):\n",
    "            if(array[j]<array[minindex]):\n",
    "                minindex = j\n",
    "        array[i], array[minindex] = array[minindex], array[i]\n",
    "\n",
    "    return array\n",
    "\n",
    "array = [21, 6, 7, 33, 2]\n",
    "\n",
    "print(\"the sorted array is:\", selection_sort(array))"
   ]
  },
  {
   "cell_type": "code",
   "execution_count": 14,
   "metadata": {},
   "outputs": [
    {
     "name": "stdout",
     "output_type": "stream",
     "text": [
      "Sorted array is:\n",
      " 12  22  25  34  64  11  90 "
     ]
    }
   ],
   "source": [
    "#Bubble Sort -- O(n**2)-Adjacent element swapping\n",
    "def bubble_sort(array):\n",
    "    length = len(array)\n",
    "\n",
    "    for i in range(length-1):\n",
    "        swaped = False\n",
    "\n",
    "        for j in range(0, n-i-1):\n",
    "            if arr[j] > arr[j + 1]:\n",
    "                swapped = True\n",
    "                arr[j], arr[j + 1] = arr[j + 1], arr[j]\n",
    "\n",
    "        if not swapped:\n",
    "            # if we haven't needed to make a single swap, we\n",
    "            # can just exit the main loop.\n",
    "            return\n",
    "\n",
    "\n",
    "# Driver code to test above\n",
    "arr = [64, 34, 25, 12, 22, 11, 90]\n",
    "\n",
    "bubble_sort(arr)\n",
    "\n",
    "print(\"Sorted array is:\")\n",
    "for i in range(len(arr)):\n",
    "    print(\"% d\" % arr[i], end=\" \")"
   ]
  },
  {
   "cell_type": "code",
   "execution_count": 16,
   "metadata": {},
   "outputs": [
    {
     "name": "stdout",
     "output_type": "stream",
     "text": [
      "sorted array with insertion sort [10, 20, 30, 40, 60]\n"
     ]
    }
   ],
   "source": [
    "# Insertion Sort\n",
    "def insertionSort(arr, size):\n",
    "    for i in range(size):\n",
    "        value = arr[i]\n",
    "        index = i\n",
    "        while index > 0 and arr[index-1] > value:\n",
    "            arr[index] = arr[index-1]\n",
    "            index -=1\n",
    "        arr[index] = value\n",
    "    return arr\n",
    "arr = [30,40,60,10,20]\n",
    "n = len(arr)\n",
    "print(\"sorted array with insertion sort\", insertionSort(arr, n))\n",
    "\n"
   ]
  },
  {
   "cell_type": "code",
   "execution_count": null,
   "metadata": {},
   "outputs": [],
   "source": [
    "# Quick Sort\n",
    "def partition(arr, start, end):\n",
    "    pindex = start\n",
    "    pivot = arr[end]\n",
    "\n",
    "    for i in range(start, end):\n",
    "        if arr[i] < pivot:\n",
    "            arr[i], arr[pindex] = arr[pindex], arr[i]\n",
    "            pindex +=1\n",
    "\n",
    "    arr[end], arr[pindex] = arr[pindex], arr[i]\n",
    "    return[pindex]"
   ]
  },
  {
   "cell_type": "code",
   "execution_count": 18,
   "metadata": {},
   "outputs": [
    {
     "name": "stdout",
     "output_type": "stream",
     "text": [
      "Sorted array: [5, 6, 7, 11, 12, 13]\n"
     ]
    }
   ],
   "source": [
    "def merge_sort(arr, start, end):\n",
    "    if start < end:\n",
    "        mid = (start + end) // 2\n",
    "        merge_sort(arr, start, mid)       # Sort the left half\n",
    "        merge_sort(arr, mid + 1, end)     # Sort the right half\n",
    "        merge(arr, start, mid, end)       # Merge the sorted halves\n",
    "\n",
    "def merge(arr, start, mid, end):\n",
    "    temp = [None] * (end - start + 1)\n",
    "    i, j, k = start, mid + 1, 0\n",
    "\n",
    "    while i <= mid and j <= end:\n",
    "        if arr[i] < arr[j]:\n",
    "            temp[k] = arr[i]\n",
    "            i += 1\n",
    "        else:\n",
    "            temp[k] = arr[j]\n",
    "            j += 1\n",
    "        k += 1\n",
    "\n",
    "    while i <= mid:\n",
    "        temp[k] = arr[i]\n",
    "        i += 1\n",
    "        k += 1\n",
    "    \n",
    "    while j <= end:\n",
    "        temp[k] = arr[j]\n",
    "        j += 1\n",
    "        k += 1\n",
    "\n",
    "    # Copy the merged elements back to the original array\n",
    "    for idx, val in enumerate(temp):\n",
    "        arr[start + idx] = val\n",
    "\n",
    "# Example usage:\n",
    "arr = [12, 11, 13, 5, 6, 7]\n",
    "merge_sort(arr, 0, len(arr) - 1)\n",
    "print(\"Sorted array:\", arr)\n"
   ]
  },
  {
   "cell_type": "code",
   "execution_count": 21,
   "metadata": {},
   "outputs": [
    {
     "name": "stdout",
     "output_type": "stream",
     "text": [
      "Prime numbers: [2, 3, 5, 7]\n"
     ]
    }
   ],
   "source": [
    "# generate list of prime numbers within the range given\n",
    "\n",
    "def generate_primes(start, end):\n",
    "    primes = []\n",
    "    for num in range(start, end+1):\n",
    "        if num > 1:\n",
    "            for i in range(2, num):\n",
    "                if num % i == 0:\n",
    "                    break\n",
    "            else:\n",
    "                primes.append(num)\n",
    "    return primes\n",
    "\n",
    "start_range = int(input(\"Enter the starting range: \"))\n",
    "end_range = int(input(\"Enter the ending range: \"))\n",
    "print(\"Prime numbers:\", generate_primes(start_range, end_range))\n",
    "\n"
   ]
  },
  {
   "cell_type": "code",
   "execution_count": 24,
   "metadata": {},
   "outputs": [
    {
     "name": "stdout",
     "output_type": "stream",
     "text": [
      "Not a leap year\n"
     ]
    }
   ],
   "source": [
    "def is_leap_year(year):\n",
    "    if year % 4 == 0 and (year % 100 != 0 or year % 400 == 0):\n",
    "        return True\n",
    "    else:\n",
    "        return False\n",
    "\n",
    "year = int(input(\"Enter a year: \"))\n",
    "if is_leap_year(year):\n",
    "    print(\"Leap year\")\n",
    "else:\n",
    "    print(\"Not a leap year\")\n"
   ]
  },
  {
   "cell_type": "code",
   "execution_count": 25,
   "metadata": {},
   "outputs": [
    {
     "name": "stdout",
     "output_type": "stream",
     "text": [
      "GCD: 2\n"
     ]
    }
   ],
   "source": [
    "#GCD of Two Numbers:\n",
    "def compute_gcd(x, y):\n",
    "    while y:\n",
    "        x, y = y, x % y\n",
    "    return x\n",
    "num1 = int(input(\"Enter first number: \"))\n",
    "num2 = int(input(\"Enter second number: \"))\n",
    "print(\"GCD:\", compute_gcd(num1, num2))"
   ]
  },
  {
   "cell_type": "code",
   "execution_count": 28,
   "metadata": {},
   "outputs": [
    {
     "name": "stdout",
     "output_type": "stream",
     "text": [
      "Perfect Square\n"
     ]
    }
   ],
   "source": [
    "#Implement function to find if a number is perfect square root\n",
    "import math\n",
    "\n",
    "def is_square_root(n):\n",
    "    root = math.isqrt(n)\n",
    "    return root*root == n\n",
    "\n",
    "number = int(input(\"Enter a number:\"))\n",
    "if is_square_root(number):\n",
    "    print(\"Perfect Square\")\n",
    "else:\n",
    "    print(\"Not a perfect square\")"
   ]
  },
  {
   "cell_type": "code",
   "execution_count": 29,
   "metadata": {},
   "outputs": [
    {
     "name": "stdout",
     "output_type": "stream",
     "text": [
      "popped items: 4\n",
      "Stack is empty: False\n"
     ]
    }
   ],
   "source": [
    "#Implement Stack Data Structure\n",
    "class Stack:\n",
    "    def __init__(self):\n",
    "        self.items =[]\n",
    "\n",
    "    def push(self, item):\n",
    "        self.items.append(item)\n",
    "    def pop(self):\n",
    "        return self.items.pop()\n",
    "    def is_empty(self):\n",
    "        return self.items == []\n",
    "    \n",
    "stack = Stack()\n",
    "stack.push(1)\n",
    "stack.push(2)\n",
    "stack.push(3)\n",
    "stack.push(4)\n",
    "print(\"popped items:\", stack.pop())\n",
    "print(\"Stack is empty:\", stack.is_empty())"
   ]
  },
  {
   "cell_type": "code",
   "execution_count": 32,
   "metadata": {},
   "outputs": [
    {
     "name": "stdout",
     "output_type": "stream",
     "text": [
      "ASCII value: 97\n"
     ]
    }
   ],
   "source": [
    "#Find the ASCII Value of a Character:\n",
    "char = input(\"Enter a character: \")\n",
    "ascii_value = ord(char)\n",
    "print(\"ASCII value:\", ascii_value)"
   ]
  },
  {
   "cell_type": "code",
   "execution_count": 33,
   "metadata": {},
   "outputs": [
    {
     "name": "stdout",
     "output_type": "stream",
     "text": [
      "*\n",
      "**\n",
      "***\n",
      "****\n",
      "*****\n",
      "****\n",
      "***\n",
      "**\n",
      "*\n"
     ]
    }
   ],
   "source": [
    "# generate a simple diamond pattern\n",
    "n = 5\n",
    "\n",
    "for i in range(n):\n",
    "    print(\"\"*(n-i-1)+\"*\"*(i+1))\n",
    "for i in range(n-1,0, -1):\n",
    "    print(\"\"*(n-i)+\"*\"*i)"
   ]
  },
  {
   "cell_type": "code",
   "execution_count": 34,
   "metadata": {},
   "outputs": [
    {
     "name": "stdout",
     "output_type": "stream",
     "text": [
      "    *\n",
      "   ***\n",
      "  *****\n",
      " *******\n",
      "*********\n",
      " *******\n",
      "  *****\n",
      "   ***\n",
      "    *\n"
     ]
    }
   ],
   "source": [
    "n = 5\n",
    "\n",
    "# Upper half of the diamond\n",
    "for i in range(n):\n",
    "    print(\" \" * (n - i - 1) + \"*\" * (2 * i + 1))\n",
    "\n",
    "# Lower half of the diamond (excluding the center row)\n",
    "for i in range(n - 2, -1, -1):\n",
    "    print(\" \" * (n - i - 1) + \"*\" * (2 * i + 1))"
   ]
  },
  {
   "cell_type": "code",
   "execution_count": 35,
   "metadata": {},
   "outputs": [
    {
     "name": "stdout",
     "output_type": "stream",
     "text": [
      "Dequeued item: 1\n",
      "queue is empty: False\n"
     ]
    }
   ],
   "source": [
    "# Implemennting a Queue Data Structure\n",
    "class Queue:\n",
    "    def __init__(self):\n",
    "        self.items = []\n",
    "\n",
    "    def enqueue(self, item):\n",
    "        self.items.insert(0,item)\n",
    "\n",
    "    def dequeue(self):\n",
    "        return self.items.pop()\n",
    "    \n",
    "    def is_empty(self):\n",
    "        return self.items == []\n",
    "    \n",
    "\n",
    "queue = Queue()\n",
    "queue.enqueue(1)\n",
    "queue.enqueue(2)\n",
    "queue.enqueue(3)\n",
    "queue.enqueue(4)\n",
    "\n",
    "print(\"Dequeued item:\", queue.dequeue())\n",
    "print(\"queue is empty:\", queue.is_empty())\n"
   ]
  },
  {
   "cell_type": "code",
   "execution_count": 36,
   "metadata": {},
   "outputs": [
    {
     "name": "stdout",
     "output_type": "stream",
     "text": [
      "Factors: [1, 2, 3, 4, 6, 12]\n"
     ]
    }
   ],
   "source": [
    "#Print the Factors of a Number:\n",
    "def print_factors(n):\n",
    "    factors = []\n",
    "    for i in range(1, n + 1):\n",
    "        if n % i == 0:\n",
    "            factors.append(i)\n",
    "    return factors\n",
    "number = int(input(\"Enter a number: \"))\n",
    "print(\"Factors:\", print_factors(number))"
   ]
  },
  {
   "cell_type": "code",
   "execution_count": 37,
   "metadata": {},
   "outputs": [
    {
     "name": "stdout",
     "output_type": "stream",
     "text": [
      "Power set: [(), (1,), (2,), (3,), (1, 2), (1, 3), (2, 3), (1, 2, 3)]\n"
     ]
    }
   ],
   "source": [
    "#Calculate the Power Set of a Set:\n",
    "from itertools import chain, combinations\n",
    "def power_set(s):\n",
    "    return list(chain.from_iterable(combinations(s, r) for r in range(len(s) + 1)))\n",
    "input_set = [1, 2, 3]\n",
    "print(\"Power set:\", power_set(input_set))"
   ]
  },
  {
   "cell_type": "code",
   "execution_count": null,
   "metadata": {},
   "outputs": [],
   "source": [
    "# reversing vowels only in the given string\n",
    "class Solution:\n",
    "   def reverseVowels(self, s: str) -> str:\n",
    "       vowels = set(\"aeiouAEIOU\")\n",
    "       s = list(s)\n",
    "       left = 0\n",
    "       right = len(s)-1\n",
    "       while left < right:\n",
    "           if s[left] not in vowels:\n",
    "               left += 1\n",
    "           elif s[right] not in vowels:\n",
    "               right -= 1\n",
    "           else:\n",
    "               s[left], s[right] = s[right], s[left]\n",
    "               left += 1\n",
    "               right -= 1\n",
    "       return \"\".join(s)"
   ]
  },
  {
   "cell_type": "code",
   "execution_count": null,
   "metadata": {},
   "outputs": [],
   "source": []
  }
 ],
 "metadata": {
  "kernelspec": {
   "display_name": "base",
   "language": "python",
   "name": "python3"
  },
  "language_info": {
   "codemirror_mode": {
    "name": "ipython",
    "version": 3
   },
   "file_extension": ".py",
   "mimetype": "text/x-python",
   "name": "python",
   "nbconvert_exporter": "python",
   "pygments_lexer": "ipython3",
   "version": "3.11.5"
  }
 },
 "nbformat": 4,
 "nbformat_minor": 2
}
